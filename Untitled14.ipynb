{
 "cells": [
  {
   "cell_type": "code",
   "execution_count": 1,
   "metadata": {},
   "outputs": [],
   "source": [
    "#playing with strings\n",
    "## checking palindromes\n"
   ]
  },
  {
   "cell_type": "code",
   "execution_count": 4,
   "metadata": {},
   "outputs": [
    {
     "name": "stdout",
     "output_type": "stream",
     "text": [
      "enter a string  malayalam\n",
      "its a palindrome\n"
     ]
    }
   ],
   "source": [
    "# taking an string as input\n",
    "i=input(\"enter a string  \")\n",
    "if i[::-1]==i:\n",
    "    print(\"its a palindrome\")\n",
    "else:\n",
    "    print(\"not a palindrome\")\n"
   ]
  },
  {
   "cell_type": "code",
   "execution_count": 5,
   "metadata": {},
   "outputs": [],
   "source": [
    "## counting number of times a given word repeated in a string"
   ]
  },
  {
   "cell_type": "code",
   "execution_count": 6,
   "metadata": {},
   "outputs": [
    {
     "name": "stdout",
     "output_type": "stream",
     "text": [
      "enter string  banana\n",
      "enter alphabet or word  a\n",
      "3\n"
     ]
    }
   ],
   "source": [
    "i=input(\"enter string  \")\n",
    "j=input(\"enter alphabet or word  \")\n",
    "print(i.count(j))\n"
   ]
  },
  {
   "cell_type": "code",
   "execution_count": 8,
   "metadata": {},
   "outputs": [
    {
     "name": "stdout",
     "output_type": "stream",
     "text": [
      "zero one two\n",
      "The original string is : zero one two\n",
      "The string after performing replace : 012\n"
     ]
    }
   ],
   "source": [
    "help_dict = {\n",
    "    'one': '1',\n",
    "    'two': '2',\n",
    "    'three': '3',\n",
    "    'four': '4',\n",
    "    'five': '5',\n",
    "    'six': '6',\n",
    "    'seven': '7',\n",
    "    'eight': '8',\n",
    "    'nine': '9',\n",
    "    'zero' : '0'\n",
    "}\n",
    "  \n",
    "\n",
    "test_str = input()\n",
    "  \n",
    "\n",
    "print(\"The original string is : \" + test_str)\n",
    "  \n",
    "\n",
    "res = ''.join(help_dict[ele] for ele in test_str.split())\n",
    "  \n",
    " \n",
    "print(\"The string after performing replace : \" + res) "
   ]
  },
  {
   "cell_type": "code",
   "execution_count": null,
   "metadata": {},
   "outputs": [],
   "source": []
  }
 ],
 "metadata": {
  "kernelspec": {
   "display_name": "Python 3",
   "language": "python",
   "name": "python3"
  },
  "language_info": {
   "codemirror_mode": {
    "name": "ipython",
    "version": 3
   },
   "file_extension": ".py",
   "mimetype": "text/x-python",
   "name": "python",
   "nbconvert_exporter": "python",
   "pygments_lexer": "ipython3",
   "version": "3.7.6"
  },
  "toc": {
   "base_numbering": 1,
   "nav_menu": {},
   "number_sections": true,
   "sideBar": true,
   "skip_h1_title": false,
   "title_cell": "Table of Contents",
   "title_sidebar": "Contents",
   "toc_cell": false,
   "toc_position": {},
   "toc_section_display": true,
   "toc_window_display": false
  }
 },
 "nbformat": 4,
 "nbformat_minor": 4
}
